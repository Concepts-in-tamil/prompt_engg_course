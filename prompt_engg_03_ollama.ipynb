{
  "cells": [
    {
      "cell_type": "markdown",
      "metadata": {
        "id": "As1zoph0TiHz"
      },
      "source": [
        "# Install Dependencies"
      ]
    },
    {
      "cell_type": "code",
      "execution_count": null,
      "metadata": {
        "id": "yzD6GGSFTdbo"
      },
      "outputs": [],
      "source": [
        "!pip install openai==1.58.1"
      ]
    },
    {
      "cell_type": "markdown",
      "metadata": {},
      "source": [
        "# Create OpenAI Client for Ollama"
      ]
    },
    {
      "cell_type": "markdown",
      "metadata": {},
      "source": [
        "#### You should choose a model that is available locally. Eg use the command `ollama list` in your terminal"
      ]
    },
    {
      "cell_type": "code",
      "execution_count": 25,
      "metadata": {
        "id": "11HNhQ0qTySR"
      },
      "outputs": [],
      "source": [
        "from openai import OpenAI\n",
        "\n",
        "#create client\n",
        "client = OpenAI(base_url='http://localhost:11434/v1', api_key='can be anything')\n",
        "model = \"llama3.1:latest\""
      ]
    },
    {
      "cell_type": "markdown",
      "metadata": {
        "id": "gi2-jqm-Ucqo"
      },
      "source": [
        "# Set the context as Tanglish Expert"
      ]
    },
    {
      "cell_type": "code",
      "execution_count": 2,
      "metadata": {
        "id": "x3waGS9HUhpm"
      },
      "outputs": [],
      "source": [
        "context = f\"\"\"\n",
        "You are a tanglish expert. You can understand and process tanglish language \\\n",
        "and capable of producing output response in tanglish language\n",
        "\"\"\""
      ]
    },
    {
      "cell_type": "markdown",
      "metadata": {
        "id": "CCJXJNKSZpDz"
      },
      "source": [
        "### Helper Function to send & display"
      ]
    },
    {
      "cell_type": "code",
      "execution_count": 3,
      "metadata": {
        "id": "rGVjaAnOZszS"
      },
      "outputs": [],
      "source": [
        "from IPython.display import display, HTML\n",
        "def serveAndDisplay(messages):\n",
        "  # Send the prompt\n",
        "  response = client.chat.completions.create(model=model, \n",
        "                                        messages=messages, \n",
        "                                        temperature=0.7)\n",
        "  display(HTML(response.choices[0].message.content))"
      ]
    },
    {
      "cell_type": "markdown",
      "metadata": {
        "id": "p4E04ZAgT4n5"
      },
      "source": [
        "# 4 Types of Using OpenAI Model"
      ]
    },
    {
      "cell_type": "markdown",
      "metadata": {
        "id": "2rJR-3caUFi5"
      },
      "source": [
        "## 1. Summarization (சுருக்கமாகக் கூறு)"
      ]
    },
    {
      "cell_type": "code",
      "execution_count": 4,
      "metadata": {
        "id": "YtSRf1v0USm8"
      },
      "outputs": [],
      "source": [
        "prompt = f\"\"\"\n",
        "Summarize the input text not more than 3 lines.\n",
        "\n",
        "input text: Ponniyin Selvan padam ippo than pathutu vanthen. \\\n",
        "Padam super huh irukku. Both part1 and part2 padam nalla \\\n",
        "irukku. padathoda music um super huh than irukku. rombha nalla padam.\n",
        "\"\"\""
      ]
    },
    {
      "cell_type": "code",
      "execution_count": 5,
      "metadata": {
        "id": "NII50WFnWt6v"
      },
      "outputs": [],
      "source": [
        "messages = [\n",
        "    {\"role\" : \"system\", \"content\" : context},\n",
        "    {\"role\" : \"user\", \"content\" : prompt}\n",
        "]"
      ]
    },
    {
      "cell_type": "code",
      "execution_count": 6,
      "metadata": {
        "colab": {
          "base_uri": "https://localhost:8080/",
          "height": 52
        },
        "id": "ICnWY600WxzS",
        "outputId": "04fa2a91-7e17-4936-d7f8-78cbbb42b715"
      },
      "outputs": [
        {
          "data": {
            "text/html": [
              "Here is the summary in tanglish:\n",
              "\n",
              "\"Ponniyin Selvan superb movie ah! Music also super ah! Part 1 & 2 both nice ah!\""
            ],
            "text/plain": [
              "<IPython.core.display.HTML object>"
            ]
          },
          "metadata": {},
          "output_type": "display_data"
        }
      ],
      "source": [
        "serveAndDisplay(messages)"
      ]
    },
    {
      "cell_type": "markdown",
      "metadata": {
        "id": "M2Ym5E7aYSrb"
      },
      "source": [
        "## 2. Inference (உட்கருத்து உணர்தல்)"
      ]
    },
    {
      "cell_type": "code",
      "execution_count": 7,
      "metadata": {
        "id": "B_293q07ZYdC"
      },
      "outputs": [],
      "source": [
        "prompt = f\"\"\"\n",
        "What is the overall sentiment of the input text? \\\n",
        "Give your answer as a single word, either \"positive\" \\\n",
        "or \"negative\".\n",
        "\n",
        "input text: Ponniyin Selvan padam ippo than pathutu vanthen. \\\n",
        "Padam super huh irukku. Both part1 and part2 padam nalla \\\n",
        "irukku. padathoda music um super huh than irukku. rombha nalla padam.\n",
        "\"\"\""
      ]
    },
    {
      "cell_type": "code",
      "execution_count": 8,
      "metadata": {
        "id": "SWYsz-I4aqRD"
      },
      "outputs": [],
      "source": [
        "messages = [\n",
        "    {\"role\" : \"system\", \"content\" : context},\n",
        "    {\"role\" : \"user\", \"content\" : prompt}\n",
        "]"
      ]
    },
    {
      "cell_type": "code",
      "execution_count": 13,
      "metadata": {
        "colab": {
          "base_uri": "https://localhost:8080/",
          "height": 34
        },
        "id": "DWEJTHvOaOmm",
        "outputId": "f2b2127a-bd45-42e7-8040-2e1e1a68e9d4"
      },
      "outputs": [
        {
          "data": {
            "text/html": [
              "Positive"
            ],
            "text/plain": [
              "<IPython.core.display.HTML object>"
            ]
          },
          "metadata": {},
          "output_type": "display_data"
        }
      ],
      "source": [
        "serveAndDisplay(messages)"
      ]
    },
    {
      "cell_type": "markdown",
      "metadata": {
        "id": "r1nkKpGYcIx1"
      },
      "source": [
        "## 3. Expand (விரிவுபடுத்துதல்)"
      ]
    },
    {
      "cell_type": "code",
      "execution_count": 18,
      "metadata": {
        "id": "8kYd025scTry"
      },
      "outputs": [],
      "source": [
        "review = f\"\"\"\n",
        "Generally Intha hotel la masala dosa rombha nalla irukkum. \\\n",
        "Athuvum ghee masala dosa ennoda favorite. \\\n",
        "But konja naala taste bad huh irukku. Also it is very expensive. \\\n",
        "Not worth the amount spent in my opinion. Parking vasathi nalla irukku. \\\n",
        "\"\"\"\n",
        "\n",
        "review2 = f\"\"\"\n",
        "Ithu oru nalla pure veg restaurant. \\\n",
        "Especially set dosa with vada curry rombha super. \\\n",
        "Service prompt huh illa and menu card kooda avanga tharala. \\\n",
        "Waiting period was there and rombha crowded huh irunthuchi.\n",
        "\"\"\"\n",
        "\n",
        "prompt = f\"\"\"\n",
        "Your task is to send an email reply to a valued customer.\n",
        "Given the customer review delimited by ```, \\\n",
        "Generate a reply to thank the customer for their review.\n",
        "If the sentiment is positive or neutral, thank them for \\\n",
        "their review.\n",
        "If the sentiment is negative, apologize and suggest that \\\n",
        "they can reach out to customer service. \n",
        "Make sure to use specific details from the review.\n",
        "Write in a concise and professional tone.\n",
        "Sign the email as `AI customer agent`.\n",
        "Provide your response in tanglish language ONLY.\n",
        "Customer review: ```{review}```\n",
        "\"\"\""
      ]
    },
    {
      "cell_type": "code",
      "execution_count": 19,
      "metadata": {
        "id": "Q-hLz8IneLUL"
      },
      "outputs": [],
      "source": [
        "context = f\"\"\"\n",
        "You are a customer service AI assistant and also a tanglish expert. \\\n",
        "You can understand and process tanglish language \\\n",
        "and capable of producing output response in tanglish language.\n",
        "\"\"\"\n",
        "\n",
        "messages = [\n",
        "    {\"role\" : \"system\", \"content\" : context},\n",
        "    {\"role\" : \"user\", \"content\" : prompt}\n",
        "]"
      ]
    },
    {
      "cell_type": "code",
      "execution_count": 20,
      "metadata": {
        "colab": {
          "base_uri": "https://localhost:8080/",
          "height": 121
        },
        "id": "HH0MFyEDeSd0",
        "outputId": "bd02095e-64fe-44f4-a7d7-d6afd88fa691"
      },
      "outputs": [
        {
          "data": {
            "text/html": [
              "Subject: Thank you for your feedback!\n",
              "\n",
              "Dear valued customer,\n",
              "\n",
              "Nandri! (Thank you!) For sharing your thoughts about our hotel, especially our masala dosa. We're glad to hear that it's one of your favorite dishes and that we got the ghee masala dosa right for you.\n",
              "\n",
              "Sorri! (Sorry!) That our regular masala dosa didn't meet your expectations. We'll take this feedback on board and try to improve our recipe. We understand that taste is subjective, but we appreciate your honesty.\n",
              "\n",
              "We agree with you that parking at our hotel is convenient. We're happy to hear that it was a positive experience for you.\n",
              "\n",
              "If you have any further concerns or suggestions, please feel free to reach out to us directly. We value your feedback and would like the opportunity to make things right.\n",
              "\n",
              "Thank you again for your review!\n",
              "\n",
              "Warm regards,\n",
              "\n",
              "AI customer agent"
            ],
            "text/plain": [
              "<IPython.core.display.HTML object>"
            ]
          },
          "metadata": {},
          "output_type": "display_data"
        }
      ],
      "source": [
        "serveAndDisplay(messages)"
      ]
    },
    {
      "cell_type": "markdown",
      "metadata": {
        "id": "IiHVih0RkvzX"
      },
      "source": [
        "## 4. Translation (மொழி மாற்றம்)"
      ]
    },
    {
      "cell_type": "code",
      "execution_count": 21,
      "metadata": {
        "id": "3IJlugDDk3co"
      },
      "outputs": [],
      "source": [
        "prompt = \"\"\"\n",
        "You are a universal translator. Translate the input text as follows \\\n",
        "- coimbatore tanglish\n",
        "- Formal english using medieval style\n",
        "- Modern texas cowboy accent style\n",
        "\n",
        "text : I cannot come tomorrow. Can I come today instead?\n",
        "\"\"\""
      ]
    },
    {
      "cell_type": "code",
      "execution_count": 22,
      "metadata": {
        "id": "1_pdVMQ4lm31"
      },
      "outputs": [],
      "source": [
        "messages = [\n",
        "    {\"role\" : \"user\", \"content\" : prompt}\n",
        "]"
      ]
    },
    {
      "cell_type": "code",
      "execution_count": 23,
      "metadata": {
        "colab": {
          "base_uri": "https://localhost:8080/",
          "height": 86
        },
        "id": "BiK_rVZFlptn",
        "outputId": "9160165e-8c0d-407f-847b-6cfd7677abb5"
      },
      "outputs": [
        {
          "data": {
            "text/html": [
              "Here be the translations:\n",
              "\n",
              "**Coimbatore Tanglish**\n",
              "Oruvarum solla tomorrow la irukkeran. Nalla oruvaru solla todayla kittaikittu solla?\n",
              "\n",
              "(Note: \"Tanglish\" is a colloquial term for Tamil-English, spoken in Coimbatore and other parts of South India)\n",
              "\n",
              "**Formal English using Medieval style**\n",
              "Verily, I do confess that I shall not be able to attend thy summons on the morrow. Prithee, might I have leave to attend thee this day instead?\n",
              "\n",
              "(Note: Using words like \"verily\", \"thou\", and \"prithee\" gives it a more archaic tone)\n",
              "\n",
              "**Modern Texas Cowboy accent style**\n",
              "Aw shucks, partner! I reckon I won't be able to make it tomorrow. Could I come on by today instead? That'd sure be mighty fine of ya!"
            ],
            "text/plain": [
              "<IPython.core.display.HTML object>"
            ]
          },
          "metadata": {},
          "output_type": "display_data"
        }
      ],
      "source": [
        "serveAndDisplay(messages)"
      ]
    }
  ],
  "metadata": {
    "colab": {
      "provenance": []
    },
    "kernelspec": {
      "display_name": ".venv",
      "language": "python",
      "name": "python3"
    },
    "language_info": {
      "codemirror_mode": {
        "name": "ipython",
        "version": 3
      },
      "file_extension": ".py",
      "mimetype": "text/x-python",
      "name": "python",
      "nbconvert_exporter": "python",
      "pygments_lexer": "ipython3",
      "version": "3.13.1"
    }
  },
  "nbformat": 4,
  "nbformat_minor": 0
}
