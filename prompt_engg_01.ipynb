{
  "nbformat": 4,
  "nbformat_minor": 0,
  "metadata": {
    "colab": {
      "provenance": []
    },
    "kernelspec": {
      "name": "python3",
      "display_name": "Python 3"
    },
    "language_info": {
      "name": "python"
    }
  },
  "cells": [
    {
      "cell_type": "markdown",
      "source": [
        "# Install Dependencies"
      ],
      "metadata": {
        "id": "n3I9FwNZ5GnY"
      }
    },
    {
      "cell_type": "code",
      "execution_count": null,
      "metadata": {
        "id": "sI8LRqI55B7j"
      },
      "outputs": [],
      "source": [
        "!pip install openai"
      ]
    },
    {
      "cell_type": "markdown",
      "source": [
        "# Setup Open AI API Key"
      ],
      "metadata": {
        "id": "A6PsJSYZ5T55"
      }
    },
    {
      "cell_type": "code",
      "source": [
        "# Set your openAI key\n",
        "import openai\n",
        "\n",
        "openai.api_key  = \"YOUR_OPENAI_KEY\""
      ],
      "metadata": {
        "id": "J_ILqCw05WRB"
      },
      "execution_count": null,
      "outputs": []
    },
    {
      "cell_type": "markdown",
      "source": [
        "# Setup the context"
      ],
      "metadata": {
        "id": "bUXS8GZW5awF"
      }
    },
    {
      "cell_type": "code",
      "source": [
        "context = f\"\"\"\n",
        "You are a tanglish expert. Provide response to input text. \\\n",
        "Use tamil font in your response.\n",
        "\"\"\""
      ],
      "metadata": {
        "id": "xztvLtdf5gV6"
      },
      "execution_count": null,
      "outputs": []
    },
    {
      "cell_type": "markdown",
      "source": [
        "# Create your prompt"
      ],
      "metadata": {
        "id": "obE8Ob9F6YB-"
      }
    },
    {
      "cell_type": "code",
      "source": [
        "#prompt = f\"\"\"\n",
        "#Hey en peru Viz. Un peru enna?\n",
        "#\"\"\"\n",
        "prompt = f\"\"\"\n",
        "Naan saapten... nee saaptiya?\n",
        "\"\"\""
      ],
      "metadata": {
        "id": "GeZSGrHd6b3W"
      },
      "execution_count": null,
      "outputs": []
    },
    {
      "cell_type": "markdown",
      "source": [
        "# Load the context and prompt"
      ],
      "metadata": {
        "id": "9ubZx17R6j9s"
      }
    },
    {
      "cell_type": "code",
      "source": [
        "messages = [\n",
        "    {\"role\" : \"system\", \"content\" : context},\n",
        "    {\"role\" : \"user\", \"content\" : prompt}\n",
        "]"
      ],
      "metadata": {
        "id": "UD444qZT6moo"
      },
      "execution_count": null,
      "outputs": []
    },
    {
      "cell_type": "markdown",
      "source": [
        "# Send the prompt and context to Open AI Model"
      ],
      "metadata": {
        "id": "RzQiYLrc6_x4"
      }
    },
    {
      "cell_type": "code",
      "source": [
        "# Send the prompt\n",
        "response = openai.ChatCompletion.create(model=\"gpt-3.5-turbo\", \n",
        "                                        messages=messages, \n",
        "                                        temperature=0)"
      ],
      "metadata": {
        "id": "CHe0oVsZ7BoP"
      },
      "execution_count": null,
      "outputs": []
    },
    {
      "cell_type": "markdown",
      "source": [
        "# Process the response from Open AI model"
      ],
      "metadata": {
        "id": "QwBpCYCY7HKL"
      }
    },
    {
      "cell_type": "code",
      "source": [
        "print(response.choices[0].message[\"content\"])"
      ],
      "metadata": {
        "colab": {
          "base_uri": "https://localhost:8080/"
        },
        "id": "-wEgApJ27K28",
        "outputId": "7ccd158f-26b3-47fd-e080-95dce6e95dce"
      },
      "execution_count": null,
      "outputs": [
        {
          "output_type": "stream",
          "name": "stdout",
          "text": [
            "நான் சாப்பிட்டேன்... நீ சாப்பிட்டிருக்கிறாயா?\n"
          ]
        }
      ]
    }
  ]
}