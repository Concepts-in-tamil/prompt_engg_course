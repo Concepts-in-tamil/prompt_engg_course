{
  "cells": [
    {
      "cell_type": "markdown",
      "metadata": {
        "id": "n3I9FwNZ5GnY"
      },
      "source": [
        "# Install Dependencies"
      ]
    },
    {
      "cell_type": "code",
      "execution_count": null,
      "metadata": {
        "id": "sI8LRqI55B7j"
      },
      "outputs": [],
      "source": [
        "!pip install openai==1.58.1"
      ]
    },
    {
      "cell_type": "markdown",
      "metadata": {
        "id": "A6PsJSYZ5T55"
      },
      "source": [
        "# Setup Open AI API Key"
      ]
    },
    {
      "cell_type": "code",
      "execution_count": 2,
      "metadata": {
        "id": "J_ILqCw05WRB"
      },
      "outputs": [],
      "source": [
        "# Set your openAI key\n",
        "import openai\n",
        "\n",
        "openai.api_key  = \"YOUR_OPENAI_KEY\""
      ]
    },
    {
      "cell_type": "markdown",
      "metadata": {
        "id": "bUXS8GZW5awF"
      },
      "source": [
        "# Setup the context"
      ]
    },
    {
      "cell_type": "code",
      "execution_count": null,
      "metadata": {
        "id": "xztvLtdf5gV6"
      },
      "outputs": [],
      "source": [
        "context = f\"\"\"\n",
        "You are a tanglish expert. Provide response to input text. \\\n",
        "Use tamil font in your response.\n",
        "\"\"\""
      ]
    },
    {
      "cell_type": "markdown",
      "metadata": {
        "id": "obE8Ob9F6YB-"
      },
      "source": [
        "# Create your prompt"
      ]
    },
    {
      "cell_type": "code",
      "execution_count": null,
      "metadata": {
        "id": "GeZSGrHd6b3W"
      },
      "outputs": [],
      "source": [
        "#prompt = f\"\"\"\n",
        "#Hey en peru Viz. Un peru enna?\n",
        "#\"\"\"\n",
        "prompt = f\"\"\"\n",
        "Naan saapten... nee saaptiya?\n",
        "\"\"\""
      ]
    },
    {
      "cell_type": "markdown",
      "metadata": {
        "id": "9ubZx17R6j9s"
      },
      "source": [
        "# Load the context and prompt"
      ]
    },
    {
      "cell_type": "code",
      "execution_count": null,
      "metadata": {
        "id": "UD444qZT6moo"
      },
      "outputs": [],
      "source": [
        "messages = [\n",
        "    {\"role\" : \"system\", \"content\" : context},\n",
        "    {\"role\" : \"user\", \"content\" : prompt}\n",
        "]"
      ]
    },
    {
      "cell_type": "markdown",
      "metadata": {
        "id": "RzQiYLrc6_x4"
      },
      "source": [
        "# Send the prompt and context to Open AI Model"
      ]
    },
    {
      "cell_type": "code",
      "execution_count": null,
      "metadata": {
        "id": "CHe0oVsZ7BoP"
      },
      "outputs": [],
      "source": [
        "# Send the prompt\n",
        "response = openai.chat.completions.create(model=\"gpt-3.5-turbo\", \n",
        "                                        messages=messages, \n",
        "                                        temperature=0)"
      ]
    },
    {
      "cell_type": "markdown",
      "metadata": {
        "id": "QwBpCYCY7HKL"
      },
      "source": [
        "# Process the response from Open AI model"
      ]
    },
    {
      "cell_type": "code",
      "execution_count": null,
      "metadata": {
        "colab": {
          "base_uri": "https://localhost:8080/"
        },
        "id": "-wEgApJ27K28",
        "outputId": "7ccd158f-26b3-47fd-e080-95dce6e95dce"
      },
      "outputs": [
        {
          "name": "stdout",
          "output_type": "stream",
          "text": [
            "நான் சாப்பிட்டேன்... நீ சாப்பிட்டிருக்கிறாயா?\n"
          ]
        }
      ],
      "source": [
        "print(response.choices[0].message.content)"
      ]
    }
  ],
  "metadata": {
    "colab": {
      "provenance": []
    },
    "kernelspec": {
      "display_name": ".venv",
      "language": "python",
      "name": "python3"
    },
    "language_info": {
      "codemirror_mode": {
        "name": "ipython",
        "version": 3
      },
      "file_extension": ".py",
      "mimetype": "text/x-python",
      "name": "python",
      "nbconvert_exporter": "python",
      "pygments_lexer": "ipython3",
      "version": "3.13.1"
    }
  },
  "nbformat": 4,
  "nbformat_minor": 0
}
