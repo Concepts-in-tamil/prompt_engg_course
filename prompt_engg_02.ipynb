{
  "nbformat": 4,
  "nbformat_minor": 0,
  "metadata": {
    "colab": {
      "provenance": []
    },
    "kernelspec": {
      "name": "python3",
      "display_name": "Python 3"
    },
    "language_info": {
      "name": "python"
    }
  },
  "cells": [
    {
      "cell_type": "markdown",
      "source": [
        "# Install Dependencies"
      ],
      "metadata": {
        "id": "As1zoph0TiHz"
      }
    },
    {
      "cell_type": "code",
      "execution_count": null,
      "metadata": {
        "id": "yzD6GGSFTdbo"
      },
      "outputs": [],
      "source": [
        "!pip install openai"
      ]
    },
    {
      "cell_type": "markdown",
      "source": [
        "# Load Open AI API Key"
      ],
      "metadata": {
        "id": "hUu93-N8TngD"
      }
    },
    {
      "cell_type": "code",
      "source": [
        "import openai\n",
        "\n",
        "#load your API key\n",
        "openai.api_key  = \"YOUR_OPENAI_KEY\""
      ],
      "metadata": {
        "id": "11HNhQ0qTySR"
      },
      "execution_count": null,
      "outputs": []
    },
    {
      "cell_type": "markdown",
      "source": [
        "# Set the context as Tanglish Expert"
      ],
      "metadata": {
        "id": "gi2-jqm-Ucqo"
      }
    },
    {
      "cell_type": "code",
      "source": [
        "context = f\"\"\"\n",
        "You are a tanglish expert. You can understand and process tanglish language \\\n",
        "and capable of producing output response in tanglish language\n",
        "\"\"\""
      ],
      "metadata": {
        "id": "x3waGS9HUhpm"
      },
      "execution_count": null,
      "outputs": []
    },
    {
      "cell_type": "markdown",
      "source": [
        "### Helper Function to send & display"
      ],
      "metadata": {
        "id": "CCJXJNKSZpDz"
      }
    },
    {
      "cell_type": "code",
      "source": [
        "from IPython.display import display, HTML\n",
        "def serveAndDisplay():\n",
        "  # Send the prompt\n",
        "  response = openai.ChatCompletion.create(model=\"gpt-3.5-turbo\", \n",
        "                                        messages=messages, \n",
        "                                        temperature=0.7)\n",
        "  display(HTML(response.choices[0].message[\"content\"]))"
      ],
      "metadata": {
        "id": "rGVjaAnOZszS"
      },
      "execution_count": null,
      "outputs": []
    },
    {
      "cell_type": "markdown",
      "source": [
        "# 4 Types of Using OpenAI Model"
      ],
      "metadata": {
        "id": "p4E04ZAgT4n5"
      }
    },
    {
      "cell_type": "markdown",
      "source": [
        "## 1. Summarization (சுருக்கமாகக் கூறு)"
      ],
      "metadata": {
        "id": "2rJR-3caUFi5"
      }
    },
    {
      "cell_type": "code",
      "source": [
        "prompt = f\"\"\"\n",
        "Summarize the input text not more than 3 lines.\n",
        "\n",
        "input text: Ponniyin Selvan padam ippo than pathutu vanthen. \\\n",
        "Padam super huh irukku. Both part1 and part2 padam nalla \\\n",
        "irukku. padathoda music um super huh than irukku. rombha nalla padam.\n",
        "\"\"\""
      ],
      "metadata": {
        "id": "YtSRf1v0USm8"
      },
      "execution_count": null,
      "outputs": []
    },
    {
      "cell_type": "code",
      "source": [
        "messages = [\n",
        "    {\"role\" : \"system\", \"content\" : context},\n",
        "    {\"role\" : \"user\", \"content\" : prompt}\n",
        "]"
      ],
      "metadata": {
        "id": "NII50WFnWt6v"
      },
      "execution_count": null,
      "outputs": []
    },
    {
      "cell_type": "code",
      "source": [
        "serveAndDisplay()"
      ],
      "metadata": {
        "colab": {
          "base_uri": "https://localhost:8080/",
          "height": 52
        },
        "id": "ICnWY600WxzS",
        "outputId": "04fa2a91-7e17-4936-d7f8-78cbbb42b715"
      },
      "execution_count": null,
      "outputs": [
        {
          "output_type": "display_data",
          "data": {
            "text/plain": [
              "<IPython.core.display.HTML object>"
            ],
            "text/html": [
              "The input text is about the movie \"Ponniyin Selvan\" which the customer has recently watched and liked. The customer enjoyed both part 1 and part 2 of the movie and also liked the music."
            ]
          },
          "metadata": {}
        }
      ]
    },
    {
      "cell_type": "markdown",
      "source": [
        "## 2. Inference (உட்கருத்து உணர்தல்)"
      ],
      "metadata": {
        "id": "M2Ym5E7aYSrb"
      }
    },
    {
      "cell_type": "code",
      "source": [
        "prompt = f\"\"\"\n",
        "What is the overall sentiment of the input text? \\\n",
        "Give your answer as a single word, either \"positive\" \\\n",
        "or \"negative\".\n",
        "\n",
        "input text: Ponniyin Selvan padam ippo than pathutu vanthen. \\\n",
        "Padam super huh irukku. Both part1 and part2 padam nalla \\\n",
        "irukku. padathoda music um super huh than irukku. rombha nalla padam.\n",
        "\"\"\""
      ],
      "metadata": {
        "id": "B_293q07ZYdC"
      },
      "execution_count": null,
      "outputs": []
    },
    {
      "cell_type": "code",
      "source": [
        "messages = [\n",
        "    {\"role\" : \"system\", \"content\" : context},\n",
        "    {\"role\" : \"user\", \"content\" : prompt}\n",
        "]"
      ],
      "metadata": {
        "id": "SWYsz-I4aqRD"
      },
      "execution_count": null,
      "outputs": []
    },
    {
      "cell_type": "code",
      "source": [
        "serveAndDisplay()"
      ],
      "metadata": {
        "colab": {
          "base_uri": "https://localhost:8080/",
          "height": 34
        },
        "id": "DWEJTHvOaOmm",
        "outputId": "f2b2127a-bd45-42e7-8040-2e1e1a68e9d4"
      },
      "execution_count": null,
      "outputs": [
        {
          "output_type": "display_data",
          "data": {
            "text/plain": [
              "<IPython.core.display.HTML object>"
            ],
            "text/html": [
              "positive"
            ]
          },
          "metadata": {}
        }
      ]
    },
    {
      "cell_type": "markdown",
      "source": [
        "## 3. Expand (விரிவுபடுத்துதல்)"
      ],
      "metadata": {
        "id": "r1nkKpGYcIx1"
      }
    },
    {
      "cell_type": "code",
      "source": [
        "review = f\"\"\"\n",
        "Generally Intha hotel la masala dosa rombha nalla irukkum. \\\n",
        "Athuvum ghee masala dosa ennoda favorite. \\\n",
        "But konja naala taste bad huh irukku. Also it is very expensive. \\\n",
        "Not worth the amount spent in my opinion. Parking vasathi nalla irukku. \\\n",
        "\"\"\"\n",
        "\n",
        "review2 = f\"\"\"\n",
        "Ithu oru nalla pure veg restaurant. \\\n",
        "Especially set dosa with vada curry rombha super. \\\n",
        "Service prompt huh illa and menu card kooda avanga tharala. \\\n",
        "Waiting period was there and rombha crowded huh irunthuchi.\n",
        "\"\"\"\n",
        "\n",
        "prompt = f\"\"\"\n",
        "Your task is to send an email reply to a valued customer.\n",
        "Given the customer review delimited by ```, \\\n",
        "Generate a reply to thank the customer for their review.\n",
        "If the sentiment is positive or neutral, thank them for \\\n",
        "their review.\n",
        "If the sentiment is negative, apologize and suggest that \\\n",
        "they can reach out to customer service. \n",
        "Make sure to use specific details from the review.\n",
        "Write in a concise and professional tone.\n",
        "Sign the email as `AI customer agent`.\n",
        "Provide your response in tanglish language only\n",
        "Customer review: ```{review}```\n",
        "\"\"\""
      ],
      "metadata": {
        "id": "8kYd025scTry"
      },
      "execution_count": null,
      "outputs": []
    },
    {
      "cell_type": "code",
      "source": [
        "context = f\"\"\"\n",
        "You are a customer service AI assistant and also a tanglish expert. \\\n",
        "You can understand and process tanglish language \\\n",
        "and capable of producing output response in tanglish language.\n",
        "\"\"\"\n",
        "\n",
        "messages = [\n",
        "    {\"role\" : \"system\", \"content\" : context},\n",
        "    {\"role\" : \"user\", \"content\" : prompt}\n",
        "]"
      ],
      "metadata": {
        "id": "Q-hLz8IneLUL"
      },
      "execution_count": null,
      "outputs": []
    },
    {
      "cell_type": "code",
      "source": [
        "serveAndDisplay()"
      ],
      "metadata": {
        "colab": {
          "base_uri": "https://localhost:8080/",
          "height": 121
        },
        "id": "HH0MFyEDeSd0",
        "outputId": "bd02095e-64fe-44f4-a7d7-d6afd88fa691"
      },
      "execution_count": null,
      "outputs": [
        {
          "output_type": "display_data",
          "data": {
            "text/plain": [
              "<IPython.core.display.HTML object>"
            ],
            "text/html": [
              "Sollitu pona review-ukku nanri. Masala dosa rombha nalla irukkumnu sonninga. Naanga kooda adha nalla saapdrom. Ghee masala dosa ennoda favourite. But konjam naala taste bad huh irukku-nu sonninga. Athai paarthu naanga konjam upset aaidrom. Sorry. Parking vasathi nalla irukku-nu sonninga. But, ungalukku dosa rombha expensive-a irukku-nu sollirukkinga. Ungalukku athu worth-a irukka maatengudhu-nu nenaikren. Enakku therintha vazhiyana information kidaikumna, unga kadan vazhiye customer service-ai contact panna mudiyum. Orey thegamaga respond panna vendum-nu nenaikren. \n",
              "\n",
              "AI customer agent"
            ]
          },
          "metadata": {}
        }
      ]
    },
    {
      "cell_type": "markdown",
      "source": [
        "## 4. Translation (மொழி மாற்றம்)"
      ],
      "metadata": {
        "id": "IiHVih0RkvzX"
      }
    },
    {
      "cell_type": "code",
      "source": [
        "prompt = \"\"\"\n",
        "You are a universal translator. Translate the input text as follows \\\n",
        "- coimbatore tanglish\n",
        "- Formal english using medieval style\n",
        "- Modern texas cowboy accent style\n",
        "\n",
        "text : I cannot come tomorrow. Can I come today instead?\n",
        "\"\"\""
      ],
      "metadata": {
        "id": "3IJlugDDk3co"
      },
      "execution_count": null,
      "outputs": []
    },
    {
      "cell_type": "code",
      "source": [
        "messages = [\n",
        "    {\"role\" : \"user\", \"content\" : prompt}\n",
        "]"
      ],
      "metadata": {
        "id": "1_pdVMQ4lm31"
      },
      "execution_count": null,
      "outputs": []
    },
    {
      "cell_type": "code",
      "source": [
        "serveAndDisplay()"
      ],
      "metadata": {
        "colab": {
          "base_uri": "https://localhost:8080/",
          "height": 86
        },
        "id": "BiK_rVZFlptn",
        "outputId": "9160165e-8c0d-407f-847b-6cfd7677abb5"
      },
      "execution_count": null,
      "outputs": [
        {
          "output_type": "display_data",
          "data": {
            "text/plain": [
              "<IPython.core.display.HTML object>"
            ],
            "text/html": [
              "Coimbatore Tanglish: Naan naala varala. Naan ivvalavu naal irunthaalum neenga enna naal varuvinga? \n",
              "(நான் நாளை வரல. நான் இவ்வளவு நாட்கள் இருந்தாலும் நீங்கள் என்ன நாள் வருவின்றீர்களா?)\n",
              "\n",
              "Formal English using Medieval Style: Verily, I cannot make it on the morrow. Pray, mayhap, I could make it on this day instead?\n",
              "\n",
              "Modern Texas Cowboy Accent Style: Ah can't make it tomorra, pardner. Kin Ah come today 'stead?"
            ]
          },
          "metadata": {}
        }
      ]
    }
  ]
}