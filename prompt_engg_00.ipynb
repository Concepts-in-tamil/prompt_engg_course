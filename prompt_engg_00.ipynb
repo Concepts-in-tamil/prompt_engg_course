{
  "cells": [
    {
      "cell_type": "markdown",
      "metadata": {
        "id": "DnMtrDJHwGBB"
      },
      "source": [
        "# Install Dependencies\n",
        "* openAI python SDK"
      ]
    },
    {
      "cell_type": "code",
      "execution_count": null,
      "metadata": {
        "id": "8kZ_4vhdwC42"
      },
      "outputs": [],
      "source": [
        "!pip install openai==1.58.1"
      ]
    },
    {
      "cell_type": "markdown",
      "metadata": {
        "id": "QsQxAQqhwV34"
      },
      "source": [
        "# Next Load your API Key"
      ]
    },
    {
      "cell_type": "code",
      "execution_count": null,
      "metadata": {
        "id": "km7F9prlwY1z"
      },
      "outputs": [],
      "source": [
        "# Set your openAI key\n",
        "import openai\n",
        "\n",
        "openai.api_key  = \"YOUR_OPENAI_KEY\""
      ]
    },
    {
      "cell_type": "markdown",
      "metadata": {
        "id": "qEdYnv2CxERH"
      },
      "source": [
        "# Create your prompt"
      ]
    },
    {
      "cell_type": "code",
      "execution_count": null,
      "metadata": {
        "id": "aJjzrISbxHqq"
      },
      "outputs": [],
      "source": [
        "#prompt = \"What is the capital of India?\"\n",
        "prompt = \"Give me 2 random facts about India. 1 fact per line\""
      ]
    },
    {
      "cell_type": "markdown",
      "metadata": {
        "id": "CQDNZIZixcqt"
      },
      "source": [
        "# Send the prompt to Open AI model"
      ]
    },
    {
      "cell_type": "code",
      "execution_count": null,
      "metadata": {
        "id": "f0Lqafs1xg2g"
      },
      "outputs": [],
      "source": [
        "# Load the prompt\n",
        "messages = [{\"role\": \"user\", \"content\": prompt}]\n",
        "# Send the prompt\n",
        "response = openai.chat.completions.create(model=\"gpt-3.5-turbo\", \n",
        "                                        messages=messages, \n",
        "                                        temperature=0.4,\n",
        "                                        n = 3)"
      ]
    },
    {
      "cell_type": "markdown",
      "metadata": {
        "id": "_VNoqqclyUev"
      },
      "source": [
        "# Process the response from Open AI model"
      ]
    },
    {
      "cell_type": "code",
      "execution_count": null,
      "metadata": {
        "colab": {
          "base_uri": "https://localhost:8080/"
        },
        "id": "F3MiaEJ2yXiW",
        "outputId": "e4a92da8-a6a1-48b0-c6e3-8acf94db9ad3"
      },
      "outputs": [
        {
          "name": "stdout",
          "output_type": "stream",
          "text": [
            "India is the world's second-most populous country, with over 1.3 billion people.\n",
            "\n",
            "India is the seventh-largest country in the world by land area.\n"
          ]
        }
      ],
      "source": [
        "print(response.choices[2].message.content)"
      ]
    }
  ],
  "metadata": {
    "colab": {
      "provenance": []
    },
    "kernelspec": {
      "display_name": ".venv",
      "language": "python",
      "name": "python3"
    },
    "language_info": {
      "name": "python",
      "version": "3.13.1"
    }
  },
  "nbformat": 4,
  "nbformat_minor": 0
}
