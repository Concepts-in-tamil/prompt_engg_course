{
  "nbformat": 4,
  "nbformat_minor": 0,
  "metadata": {
    "colab": {
      "provenance": []
    },
    "kernelspec": {
      "name": "python3",
      "display_name": "Python 3"
    },
    "language_info": {
      "name": "python"
    }
  },
  "cells": [
    {
      "cell_type": "markdown",
      "source": [
        "# Install Dependencies\n",
        "* openAI python SDK"
      ],
      "metadata": {
        "id": "DnMtrDJHwGBB"
      }
    },
    {
      "cell_type": "code",
      "execution_count": null,
      "metadata": {
        "id": "8kZ_4vhdwC42"
      },
      "outputs": [],
      "source": [
        "!pip install openai"
      ]
    },
    {
      "cell_type": "markdown",
      "source": [
        "# Next Load your API Key"
      ],
      "metadata": {
        "id": "QsQxAQqhwV34"
      }
    },
    {
      "cell_type": "code",
      "source": [
        "# Set your openAI key\n",
        "import openai\n",
        "\n",
        "openai.api_key  = \"YOUR_OPENAI_KEY\""
      ],
      "metadata": {
        "id": "km7F9prlwY1z"
      },
      "execution_count": null,
      "outputs": []
    },
    {
      "cell_type": "markdown",
      "source": [
        "# Create your prompt"
      ],
      "metadata": {
        "id": "qEdYnv2CxERH"
      }
    },
    {
      "cell_type": "code",
      "source": [
        "#prompt = \"What is the capital of India?\"\n",
        "prompt = \"Give me 2 random facts about India. 1 fact per line\""
      ],
      "metadata": {
        "id": "aJjzrISbxHqq"
      },
      "execution_count": null,
      "outputs": []
    },
    {
      "cell_type": "markdown",
      "source": [
        "# Send the prompt to Open AI model"
      ],
      "metadata": {
        "id": "CQDNZIZixcqt"
      }
    },
    {
      "cell_type": "code",
      "source": [
        "# Load the prompt\n",
        "messages = [{\"role\": \"user\", \"content\": prompt}]\n",
        "# Send the prompt\n",
        "response = openai.ChatCompletion.create(model=\"gpt-3.5-turbo\", \n",
        "                                        messages=messages, \n",
        "                                        temperature=0.4,\n",
        "                                        n = 3)"
      ],
      "metadata": {
        "id": "f0Lqafs1xg2g"
      },
      "execution_count": null,
      "outputs": []
    },
    {
      "cell_type": "markdown",
      "source": [
        "# Process the response from Open AI model"
      ],
      "metadata": {
        "id": "_VNoqqclyUev"
      }
    },
    {
      "cell_type": "code",
      "source": [
        "print(response.choices[2].message[\"content\"])"
      ],
      "metadata": {
        "id": "F3MiaEJ2yXiW",
        "colab": {
          "base_uri": "https://localhost:8080/"
        },
        "outputId": "e4a92da8-a6a1-48b0-c6e3-8acf94db9ad3"
      },
      "execution_count": null,
      "outputs": [
        {
          "output_type": "stream",
          "name": "stdout",
          "text": [
            "India is the world's second-most populous country, with over 1.3 billion people.\n",
            "\n",
            "India is the seventh-largest country in the world by land area.\n"
          ]
        }
      ]
    }
  ]
}